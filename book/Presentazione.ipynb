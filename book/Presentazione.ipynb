{
 "cells": [
  {
   "cell_type": "markdown",
   "id": "bd0cd8b0",
   "metadata": {
    "slideshow": {
     "slide_type": "slide"
    }
   },
   "source": [
    "<div class=\"jumbotron\\\">\n",
    "    <left>\n",
    "    <h1>Clash Royale Classificator</h1>\n",
    "    <h2> Riccardo Raciti</h2>\n",
    "      <h3>A.A. 2021/2022</h3>\n",
    "        <h5><a href=\"https://github.com/Raciti/TAP-Project\">TAP-Project</a></h5>\n",
    "    </left>\n",
    "</div>"
   ]
  },
  {
   "cell_type": "markdown",
   "id": "32650101",
   "metadata": {
    "slideshow": {
     "slide_type": "slide"
    }
   },
   "source": [
    "## Abstarct\n",
    "Lo scopo di questo progetto è quello di creare un classificatore real-time che sia in grado di classificare i match di clash royale indicando se la partita è stata interessante o non interessante. \n",
    "Questo progetto è stato pensato per trovare le partite più interessanti per poi in esse cercare i possibili highlights."
   ]
  },
  {
   "cell_type": "markdown",
   "id": "e9293e1b",
   "metadata": {
    "slideshow": {
     "slide_type": "subslide"
    }
   },
   "source": [
    "## Data Flow\n",
    "<center>\n",
    "    <img src=\"./images/pipe.png\" style=\"width:800px\"; />\n",
    "</center>"
   ]
  },
  {
   "cell_type": "markdown",
   "id": "8a8fe707",
   "metadata": {
    "slideshow": {
     "slide_type": "slide"
    }
   },
   "source": [
    "# Data Sources\n",
    "\n",
    "<left>\n",
    "    <img src=\"images/clashroyale.png\" style=\"width:200px\"; />\n",
    "</left>\n",
    "\n",
    "I dati utilizzati per questo progetto sono stati ottenuti tramite le API ufficiali di [Clash Royale](https://developer.clashroyale.com), le quali forniranno le seguenti informazioni:\n",
    "- Corone; \n",
    "- Corene nemice;\n",
    "- Torre centrale;\n",
    "- Torre centrale nemica;\n",
    "- Torre sinistra;\n",
    "- Torre sinistra nemica;\n",
    "- Torre destra;\n",
    "- Torre destra nemica."
   ]
  },
  {
   "cell_type": "markdown",
   "id": "9762c9d7",
   "metadata": {
    "slideshow": {
     "slide_type": "slide"
    }
   },
   "source": [
    "# Simulatore Chiamate API\n",
    "\n",
    "<left>\n",
    "    <img src=\"images/Unknown.png\" style=\"width:100px\"; />\n",
    "</left>\n",
    "\n",
    "Il problema delle API di Clash Royale è che esse utilizzano un token dinamico per cui per simulare un modello realtime si è optato per ottenere e conservare vari log, per poi utilizzarli per il training del modello e per simulare le chiamate API. Si consideri inoltre che un match di clash royale può durare dai trenta secondi ai cinque minuti, per cui la scelta della simulazione è stata al bacio.\n",
    "\n",
    "<left>\n",
    "<img src=\"images/meme1.jpeg\" style=\"width:300px\"; />\n",
    "</left>"
   ]
  },
  {
   "cell_type": "markdown",
   "id": "c09f86ba",
   "metadata": {
    "slideshow": {
     "slide_type": "slide"
    }
   },
   "source": [
    "## Logstash\n",
    "<left>\n",
    "    <img src=\"images/Logstash_Large.png\" style=\"width:150px\"; />\n",
    "</left>\n",
    "\n",
    "Si è utilizzato l'HTTP Input Plugin di Logstash, per ricevere i dati dal server ogni cinque secondi. Per poi mandare i dati a un cluster Kafka. "
   ]
  },
  {
   "cell_type": "markdown",
   "id": "1dfc5df3",
   "metadata": {
    "slideshow": {
     "slide_type": "slide"
    }
   },
   "source": [
    "## Kafka\n",
    "<left>\n",
    "    <img src=\"images/Kafka-logo.png\" style=\"width:150px\"; />\n",
    "</left>\n",
    "Apache Kafka è una piattaforma per il data streaming distribuita che permette di pubblicare, sottoscrivere, archiviare ed elaborare flussi di record in tempo reale.\n",
    "I dati saranno storati all'interno di Kafka finché essi non verrano consumati dal processo collegato. Inoltre essendo distribuito si può scalare se necessario. "
   ]
  },
  {
   "cell_type": "markdown",
   "id": "a87d354a",
   "metadata": {
    "slideshow": {
     "slide_type": "slide"
    }
   },
   "source": [
    "## Spark\n",
    "<left>\n",
    "    <img src=\"images/Apache_Spark_logo.svg.png\" style=\"width:150px\"; />\n",
    "</left>\n",
    "\n",
    "Apache Spark è un framework di elaborazione parallela open source che supporta l'elaborazione in memoria per migliorare le prestazioni delle applicazioni che analizzano Big Data. <br>\n",
    "Per il modello di classificazione si è utilizzato LinearSVC il quale è un modello di classificazione binaria messa a disposizone direttamene da Spark.<br>\n",
    "Il modello ha ottenuto un'acuracy del 97% la quale è ottima.\n",
    "Una volta ottenuto il modello lo si è utilizzato tramite Spark Streaming, il quale ci permette di lavorare con i dati in streaming, per ogni dato in real-time arrivato si apllica la classificazione e si manda il risultato a elasticSearch."
   ]
  },
  {
   "cell_type": "markdown",
   "id": "52e222e4",
   "metadata": {
    "slideshow": {
     "slide_type": "slide"
    }
   },
   "source": [
    "## ElasticSearch\n",
    "<left>\n",
    "    <img src=\"images/elastic-elasticsearch-logo.png\" style=\"width:150px\"; />\n",
    "</left>\n",
    "\n",
    "Lo si è utilizzato per memorizzare i dati elaborati in tempo reale e offre un'integrazione nativa con Kibana.\n",
    "\n",
    "<left>\n",
    "    <img src=\"images/Elastic.png\" style=\"width:500px\"; />\n",
    "</left>"
   ]
  },
  {
   "cell_type": "markdown",
   "id": "b09a9019",
   "metadata": {
    "slideshow": {
     "slide_type": "slide"
    }
   },
   "source": [
    "## Kibana\n",
    "<left>\n",
    "    <img src=\"images/kibana.png\" style=\"width:150px\"; />\n",
    "</left>\n",
    "\n",
    "Tramite Kibana si accumulano i dati da Spark, si crea una dashboard che permette la visualizzazioe delle informazioni.\n",
    "\n",
    "<br>\n",
    "\n",
    "<left>\n",
    "    <img src=\"images/kibana_Dash.png\" style=\"width:750px\"; />\n",
    "</left>"
   ]
  },
  {
   "attachments": {},
   "cell_type": "markdown",
   "id": "932f8c44",
   "metadata": {
    "slideshow": {
     "slide_type": "subslide"
    }
   },
   "source": [
    "## Ringraziamenti\n",
    "Ringraziamenti particolari al Vichingo del DMI.\n",
    "\n",
    "<left>\n",
    "    <img src=\"images/meme2.png\" style=\"width:500px\"; />\n",
    "</left>\n",
    "\n"
   ]
  },
  {
   "cell_type": "markdown",
   "id": "7caa4eeb",
   "metadata": {
    "slideshow": {
     "slide_type": "subslide"
    }
   },
   "source": [
    "E al gigante buono\n",
    "\n",
    "<left>\n",
    "    <img src=\"images/Saretto.png\" style=\"width:300px\"; />\n",
    "</left>\n",
    "\n",
    "Anche conosciuto come colui senza pensieri"
   ]
  }
 ],
 "metadata": {
  "celltoolbar": "Slideshow",
  "kernelspec": {
   "display_name": "Python 3 (ipykernel)",
   "language": "python",
   "name": "python3"
  },
  "language_info": {
   "codemirror_mode": {
    "name": "ipython",
    "version": 3
   },
   "file_extension": ".py",
   "mimetype": "text/x-python",
   "name": "python",
   "nbconvert_exporter": "python",
   "pygments_lexer": "ipython3",
   "version": "3.8.13"
  }
 },
 "nbformat": 4,
 "nbformat_minor": 5
}
